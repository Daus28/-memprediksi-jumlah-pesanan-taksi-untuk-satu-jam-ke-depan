{
 "cells": [
  {
   "cell_type": "markdown",
   "metadata": {},
   "source": [
    "# Deskripsi tugas\n",
    "\n",
    "Perusahaan taksi bernama Sweet Lift telah mengumpulkan data historis tentang pesanan taksi di bandara. Untuk menarik lebih banyak pengemudi pada jam sibuk, perlu memprediksi jumlah pesanan taksi untuk satu jam berikutnya. Buat model untuk prediksi seperti itu.\n",
    "\n",
    "Metrik RMSE pada *test set* tidak boleh lebih dari 48.\n",
    "\n",
    "## Instruksi tugas\n",
    "\n",
    "1. Unduh data dan lakukan *resampling* dalam satu jam.\n",
    "2. Analisis datanya.\n",
    "3.  Latih model yang berbeda dengan hiperparameter yang berbeda pula. Sampel tes harus 10% dari *dataset* awal.\n",
    "4. Uji data menggunakan sampel tes dan berikan kesimpulan.\n",
    "\n",
    "## Deskripsi data\n",
    "\n",
    "Data tersimpan di file `taxi.csv`. Jumlah pesanan di kolom'*num_orders*'."
   ]
  },
  {
   "cell_type": "markdown",
   "metadata": {},
   "source": [
    "Berikut adalah deskripsi langkah-langkah yang akan saya lakukan untuk menyelesaikan proyek ini:\n",
    "\n",
    "1. Persiapan Awal\n",
    "- Unduh dataset dari lokasi yang disediakan (/datasets/taxi.csv).\n",
    "- Impor pustaka yang diperlukan (seperti pandas, numpy, sklearn, dll).\n",
    "2. Pemahaman Data\n",
    "- Baca dataset.\n",
    "- Eksplorasi data untuk memahami struktur, tipe data, dan statistik deskriptif.\n",
    "- Visualisasi data untuk mendapatkan wawasan tambahan.\n",
    "3. Persiapan Data\n",
    "- Resampling data menjadi interval satu jam untuk memenuhi kebutuhan proyek.\n",
    "- Mungkin diperlukan penanganan missing value, encoding kategori, atau skala fitur.\n",
    "4. Pembagian Data\n",
    "- Pisahkan dataset menjadi data latih dan data uji. Data uji harus mewakili 10% dari dataset awal.\n",
    "5. Pembuatan Model\n",
    "- Latih beberapa model berbeda dengan beragam hyperparameter.\n",
    "- Gunakan algoritma regresi yang cocok untuk memprediksi jumlah pesanan taksi (misalnya, Random Forest Regressor, Gradient Boosting Regressor, dll).\n",
    "6. Evaluasi Model\n",
    "- Gunakan data uji untuk mengevaluasi kinerja model.\n",
    "- Gunakan metrik Root Mean Squared Error (RMSE) untuk mengevaluasi seberapa baik model memprediksi jumlah pesanan taksi.\n",
    "- Pastikan RMSE pada data uji tidak melebihi 48.\n",
    "7. Kesimpulan\n",
    "- Sajikan kesimpulan dari analisis dan evaluasi yang telah dilakukan.\n",
    "- Diskusikan temuan dan saran untuk pengembangan selanjutnya."
   ]
  },
  {
   "cell_type": "markdown",
   "metadata": {},
   "source": [
    "## Persiapan"
   ]
  },
  {
   "cell_type": "code",
   "execution_count": 1,
   "metadata": {},
   "outputs": [],
   "source": [
    "import pandas as pd\n",
    "import numpy as np\n",
    "from sklearn.model_selection import train_test_split\n",
    "from sklearn.ensemble import RandomForestRegressor\n",
    "from sklearn.metrics import mean_squared_error\n",
    "import matplotlib.pyplot as plt\n",
    "from sklearn.model_selection import train_test_split\n",
    "from sklearn.ensemble import RandomForestRegressor, GradientBoostingRegressor"
   ]
  },
  {
   "cell_type": "code",
   "execution_count": 2,
   "metadata": {},
   "outputs": [],
   "source": [
    "# Membaca file CSV\n",
    "df = pd.read_csv('/datasets/taxi.csv')"
   ]
  },
  {
   "cell_type": "code",
   "execution_count": 3,
   "metadata": {
    "scrolled": false
   },
   "outputs": [
    {
     "name": "stdout",
     "output_type": "stream",
     "text": [
      "              datetime  num_orders\n",
      "0  2018-03-01 00:00:00           9\n",
      "1  2018-03-01 00:10:00          14\n",
      "2  2018-03-01 00:20:00          28\n",
      "3  2018-03-01 00:30:00          20\n",
      "4  2018-03-01 00:40:00          32\n"
     ]
    }
   ],
   "source": [
    "# Menampilkan lima baris pertama dari dataframe\n",
    "print(df.head())"
   ]
  },
  {
   "cell_type": "markdown",
   "metadata": {},
   "source": [
    "Setiap baris dari DataFrame ini mewakili data untuk satu interval waktu tertentu.\n",
    "\n",
    "Penjelasan dari hasil yang ditampilkan:\n",
    "\n",
    "- Kolom pertama adalah 'datetime', yang berisi timestamp atau waktu saat pesanan taksi diterima.\n",
    "- Kolom kedua adalah 'num_orders', yang berisi jumlah pesanan taksi yang diterima pada interval waktu tersebut.\n",
    "- Baris-baris menunjukkan data untuk interval waktu yang berbeda, dimulai dari 00:00:00 pada tanggal 1 Maret 2018 dan seterusnya dengan interval 10 menit.\n",
    "\n",
    "Dengan menampilkan lima baris pertama dari DataFrame, kita bisa mendapatkan gambaran awal tentang struktur dataset dan jenis data yang terdapat di dalamnya. "
   ]
  },
  {
   "cell_type": "markdown",
   "metadata": {},
   "source": [
    "## Analisis"
   ]
  },
  {
   "cell_type": "code",
   "execution_count": 4,
   "metadata": {},
   "outputs": [
    {
     "name": "stdout",
     "output_type": "stream",
     "text": [
      "\n",
      "Informasi dataset:\n",
      "<class 'pandas.core.frame.DataFrame'>\n",
      "RangeIndex: 26496 entries, 0 to 26495\n",
      "Data columns (total 2 columns):\n",
      " #   Column      Non-Null Count  Dtype \n",
      "---  ------      --------------  ----- \n",
      " 0   datetime    26496 non-null  object\n",
      " 1   num_orders  26496 non-null  int64 \n",
      "dtypes: int64(1), object(1)\n",
      "memory usage: 414.1+ KB\n",
      "None\n"
     ]
    }
   ],
   "source": [
    "# Informasi tentang dataset\n",
    "print(\"\\nInformasi dataset:\")\n",
    "print(df.info())"
   ]
  },
  {
   "cell_type": "markdown",
   "metadata": {},
   "source": [
    "Berikut adalah penjelasan dari hasil tersebut:\n",
    "\n",
    "1. Informasi dataset:\n",
    "- DataFrame memiliki total 26.496 entri (baris) dan 2 kolom.\n",
    "- Indeks (RangeIndex) dari DataFrame ini adalah dari 0 hingga 26.495.\n",
    "- Terdapat dua kolom dalam DataFrame ini.\n",
    "2. Informasi tentang Kolom:\n",
    "- Kolom pertama adalah 'datetime' yang memiliki 26.496 entri non-null (tidak ada nilai yang hilang). Tipe data kolom ini adalah object, yang menunjukkan bahwa kolom ini berisi string atau teks (representasi tanggal dan waktu).\n",
    "- Kolom kedua adalah 'num_orders' yang juga memiliki 26.496 entri non-null. Tipe data kolom ini adalah int64, yang menunjukkan bahwa kolom ini berisi bilangan bulat (jumlah pesanan taksi).\n",
    "3. Penggunaan Memori:\n",
    "- Dataset ini menggunakan sekitar 414.1 KB dari memori komputer.\n",
    "\n",
    "Dengan informasi ini, kita dapat mengetahui struktur dataset, jumlah data yang tersedia, tipe data dari setiap kolom, dan apakah ada nilai yang hilang (non-null count). Hal ini penting untuk memahami dataset sebelum melanjutkan ke tahap analisis dan pemodelan lebih lanjut. "
   ]
  },
  {
   "cell_type": "markdown",
   "metadata": {},
   "source": [
    "Dari informasi yang telah diberikan, terlihat bahwa kolom 'datetime' memiliki tipe data 'object'. Secara umum, saat bekerja dengan kolom yang berisi tanggal dan waktu, lebih baik mengubahnya menjadi tipe data yang sesuai untuk memungkinkan operasi dan analisis waktu yang lebih mudah dilakukan.\n",
    "\n",
    "Kita dapat mengubah kolom 'datetime' menjadi tipe data datetime menggunakan fungsi pd.to_datetime(). Ini akan memungkinkan kita untuk dengan mudah melakukan ekstraksi waktu, manipulasi tanggal, atau melakukan operasi waktu lainnya."
   ]
  },
  {
   "cell_type": "code",
   "execution_count": 5,
   "metadata": {},
   "outputs": [
    {
     "name": "stdout",
     "output_type": "stream",
     "text": [
      "datetime      datetime64[ns]\n",
      "num_orders             int64\n",
      "dtype: object\n"
     ]
    }
   ],
   "source": [
    "# Mengubah tipe data kolom 'datetime' menjadi datetime\n",
    "df['datetime'] = pd.to_datetime(df['datetime'])\n",
    "\n",
    "# Memeriksa perubahan\n",
    "print(df.dtypes)"
   ]
  },
  {
   "cell_type": "code",
   "execution_count": 6,
   "metadata": {
    "scrolled": true
   },
   "outputs": [
    {
     "name": "stdout",
     "output_type": "stream",
     "text": [
      "\n",
      "Statistik deskriptif:\n",
      "         num_orders\n",
      "count  26496.000000\n",
      "mean      14.070463\n",
      "std        9.211330\n",
      "min        0.000000\n",
      "25%        8.000000\n",
      "50%       13.000000\n",
      "75%       19.000000\n",
      "max      119.000000\n"
     ]
    }
   ],
   "source": [
    "# Menampilkan statistik deskriptif\n",
    "print(\"\\nStatistik deskriptif:\")\n",
    "print(df.describe())"
   ]
  },
  {
   "cell_type": "markdown",
   "metadata": {},
   "source": [
    "Berikut adalah penjelasan dari statistik deskriptif yang ditampilkan:\n",
    "\n",
    "- count: Jumlah total entri dalam kolom 'num_orders'. Dalam kasus ini, terdapat 26.496 entri.\n",
    "- mean: Rata-rata dari semua nilai dalam kolom 'num_orders'. Rata-rata jumlah pesanan taksi adalah sekitar 14.07.\n",
    "- std: Standar deviasi dari semua nilai dalam kolom 'num_orders'. Standar deviasi adalah sekitar 9.21, yang mengindikasikan seberapa jauh data tersebar dari rata-ratanya.\n",
    "- min: Nilai minimum dalam kolom 'num_orders'. Nilai minimum adalah 0, yang menunjukkan ada interval waktu di mana tidak ada pesanan taksi.\n",
    "- 25%: Kuartil pertama (Q1) dari data, yang merupakan nilai di bawah mana 25% data terletak. Nilai kuartil pertama adalah 8.\n",
    "- 50%: Median dari data, juga dikenal sebagai kuartil kedua (Q2) atau nilai tengah. Median adalah 13, yang berarti 50% dari data memiliki nilai di bawah 13 dan 50% lainnya memiliki nilai di atas 13.\n",
    "- 75%: Kuartil ketiga (Q3) dari data, yang merupakan nilai di bawah mana 75% data terletak. Nilai kuartil ketiga adalah 19.\n",
    "- max: Nilai maksimum dalam kolom 'num_orders'. Nilai maksimum adalah 119, yang menunjukkan jumlah pesanan taksi tertinggi dalam satu interval waktu.\n",
    "\n",
    "Statistik deskriptif ini memberikan gambaran umum tentang distribusi jumlah pesanan taksi dalam dataset, termasuk tendensi pusat, dispersi, dan rentang nilainya. "
   ]
  },
  {
   "cell_type": "code",
   "execution_count": 7,
   "metadata": {},
   "outputs": [
    {
     "data": {
      "image/png": "[encoded data removed]",
      "text/plain": [
       "<Figure size 720x432 with 1 Axes>"
      ]
     },
     "metadata": {
      "needs_background": "light"
     },
     "output_type": "display_data"
    }
   ],
   "source": [
    "# Visualisasi jumlah pesanan taksi sepanjang waktu\n",
    "plt.figure(figsize=(10, 6))\n",
    "plt.plot(df['datetime'], df['num_orders'], color='blue')\n",
    "plt.title('Jumlah Pesanan Taksi sepanjang Waktu')\n",
    "plt.xlabel('Waktu')\n",
    "plt.ylabel('Jumlah Pesanan')\n",
    "plt.xticks(rotation=45)\n",
    "plt.tight_layout()\n",
    "plt.show()"
   ]
  },
  {
   "cell_type": "markdown",
   "metadata": {},
   "source": [
    "Jumlah pesanan taksi sepanjang waktu terlihat lebih meningkat dari waktu ke waktu tetapi tidak begitu signifikan.\n",
    "Jumlah pesanan taksi pada bulan Agustust sampai September 2018 terlihat lebih tinggi dibandingkan sebelumnya."
   ]
  },
  {
   "cell_type": "code",
   "execution_count": 8,
   "metadata": {},
   "outputs": [
    {
     "name": "stdout",
     "output_type": "stream",
     "text": [
      "Data setelah di-resample:\n",
      "                     num_orders\n",
      "datetime                       \n",
      "2018-03-01 00:00:00         124\n",
      "2018-03-01 01:00:00          85\n",
      "2018-03-01 02:00:00          71\n",
      "2018-03-01 03:00:00          66\n",
      "2018-03-01 04:00:00          43\n"
     ]
    }
   ],
   "source": [
    "# Mengubah kolom 'datetime' menjadi indeks datetime\n",
    "df.set_index('datetime', inplace=True)\n",
    "\n",
    "# Meresample data menjadi interval satu jam dan menjumlahkan jumlah pesanan taksi\n",
    "df_resampled = df.resample('1H').sum()\n",
    "\n",
    "# Menampilkan lima baris pertama dari dataframe yang telah di-resample\n",
    "print(\"Data setelah di-resample:\")\n",
    "print(df_resampled.head())"
   ]
  },
  {
   "cell_type": "markdown",
   "metadata": {},
   "source": [
    "Hasil tersebut adalah data setelah dilakukan resampling menjadi interval satu jam. Data ini menunjukkan jumlah pesanan taksi yang dijumlahkan per jam untuk setiap jam dalam rentang waktu tertentu.\n",
    "\n",
    "Penjelasan dari hasil tersebut adalah sebagai berikut:\n",
    "\n",
    "- Kolom 'datetime': Merupakan indeks dari DataFrame yang menunjukkan waktu atau jam tertentu.\n",
    "- Kolom 'num_orders': Menunjukkan jumlah pesanan taksi yang dijumlahkan dalam satu jam tersebut.\n",
    "\n",
    "\n",
    "Contoh:\n",
    "\n",
    "- Pada jam 00:00:00 tanggal 1 Maret 2018, terdapat 124 pesanan taksi.\n",
    "- Pada jam 01:00:00 tanggal 1 Maret 2018, terdapat 85 pesanan taksi.\n",
    "- Pada jam 02:00:00 tanggal 1 Maret 2018, terdapat 71 pesanan taksi, dan seterusnya.\n",
    "\n",
    "Dengan data ini yang telah di-resample menjadi interval satu jam, kita dapat menggunakan data ini untuk melatih model prediksi jumlah pesanan taksi untuk jam-jam berikutnya. "
   ]
  },
  {
   "cell_type": "markdown",
   "metadata": {},
   "source": [
    "## Pelatihan"
   ]
  },
  {
   "cell_type": "code",
   "execution_count": 9,
   "metadata": {},
   "outputs": [
    {
     "name": "stdout",
     "output_type": "stream",
     "text": [
      "Ukuran Data Latih: 3974\n",
      "Ukuran Data Uji: 442\n"
     ]
    }
   ],
   "source": [
    "# Memisahkan fitur (X) dan target (y)\n",
    "X = df_resampled.index  # Indeks waktu sebagai fitur\n",
    "y = df_resampled['num_orders']  # Jumlah pesanan taksi sebagai target\n",
    "\n",
    "# Memisahkan data menjadi data latih dan data uji (90%:10%)\n",
    "X_train, X_test, y_train, y_test = train_test_split(X, y, test_size=0.1, random_state=42)\n",
    "\n",
    "# Menampilkan ukuran data latih dan data uji\n",
    "print(\"Ukuran Data Latih:\", X_train.shape[0])\n",
    "print(\"Ukuran Data Uji:\", X_test.shape[0])"
   ]
  },
  {
   "cell_type": "markdown",
   "metadata": {},
   "source": [
    "Hasil tersebut menunjukkan ukuran data latih dan data uji setelah pembagian dilakukan. Berikut adalah penjelasan dari hasil tersebut:\n",
    "\n",
    "1. Ukuran Data Latih: 3974\n",
    "- Ini menunjukkan bahwa data latih terdiri dari 3974 entri atau jam.\n",
    "- Data latih digunakan untuk melatih model prediksi jumlah pesanan taksi.\n",
    "2. Ukuran Data Uji: 442\n",
    "- Ini menunjukkan bahwa data uji terdiri dari 442 entri atau jam.\n",
    "- Data uji digunakan untuk menguji kinerja model yang telah dilatih.\n",
    "\n",
    "Pembagian data ini mengikuti proporsi yang diinginkan, di mana data uji mewakili sekitar 10% dari keseluruhan dataset. Hal ini akan memungkinkan kita untuk menguji kinerja model dengan data yang belum pernah dilihat sebelumnya."
   ]
  },
  {
   "cell_type": "code",
   "execution_count": 10,
   "metadata": {
    "scrolled": true
   },
   "outputs": [
    {
     "name": "stdout",
     "output_type": "stream",
     "text": [
      "RandomForestRegressor(random_state=42)\n",
      "GradientBoostingRegressor(random_state=42)\n"
     ]
    }
   ],
   "source": [
    "# Inisialisasi model Random Forest Regressor\n",
    "rf_model = RandomForestRegressor(random_state=42)\n",
    "\n",
    "# Inisialisasi model Gradient Boosting Regressor\n",
    "gb_model = GradientBoostingRegressor(random_state=42)\n",
    "\n",
    "# Melatih model Random Forest Regressor\n",
    "rf_model.fit(X_train.values.reshape(-1, 1), y_train)\n",
    "\n",
    "# Melatih model Gradient Boosting Regressor\n",
    "gb_model.fit(X_train.values.reshape(-1, 1), y_train)\n",
    "\n",
    "print(rf_model)\n",
    "print(gb_model)"
   ]
  },
  {
   "cell_type": "markdown",
   "metadata": {},
   "source": [
    "## Pengujian"
   ]
  },
  {
   "cell_type": "code",
   "execution_count": 11,
   "metadata": {},
   "outputs": [],
   "source": [
    "# Prediksi jumlah pesanan taksi menggunakan model Random Forest Regressor\n",
    "rf_predictions = rf_model.predict(X_test.values.reshape(-1, 1))\n",
    "\n",
    "# Prediksi jumlah pesanan taksi menggunakan model Gradient Boosting Regressor\n",
    "gb_predictions = gb_model.predict(X_test.values.reshape(-1, 1))"
   ]
  },
  {
   "cell_type": "code",
   "execution_count": 12,
   "metadata": {},
   "outputs": [
    {
     "name": "stdout",
     "output_type": "stream",
     "text": [
      "RMSE untuk model Random Forest Regressor: 30.05827280135878\n",
      "RMSE untuk model Gradient Boosting Regressor: 36.54504920531381\n"
     ]
    }
   ],
   "source": [
    "# Menghitung RMSE untuk model Random Forest Regressor\n",
    "rf_rmse = np.sqrt(mean_squared_error(y_test, rf_predictions))\n",
    "\n",
    "# Menghitung RMSE untuk model Gradient Boosting Regressor\n",
    "gb_rmse = np.sqrt(mean_squared_error(y_test, gb_predictions))\n",
    "\n",
    "# Menampilkan RMSE\n",
    "print(\"RMSE untuk model Random Forest Regressor:\", rf_rmse)\n",
    "print(\"RMSE untuk model Gradient Boosting Regressor:\", gb_rmse)"
   ]
  },
  {
   "cell_type": "code",
   "execution_count": 13,
   "metadata": {},
   "outputs": [
    {
     "name": "stdout",
     "output_type": "stream",
     "text": [
      "RMSE untuk model Random Forest Regressor memenuhi syarat.\n",
      "RMSE untuk model Gradient Boosting Regressor memenuhi syarat.\n"
     ]
    }
   ],
   "source": [
    "# Memeriksa apakah RMSE pada data uji memenuhi batasan\n",
    "if rf_rmse <= 48:\n",
    "    print(\"RMSE untuk model Random Forest Regressor memenuhi syarat.\")\n",
    "else:\n",
    "    print(\"RMSE untuk model Random Forest Regressor melebihi batasan.\")\n",
    "\n",
    "if gb_rmse <= 48:\n",
    "    print(\"RMSE untuk model Gradient Boosting Regressor memenuhi syarat.\")\n",
    "else:\n",
    "    print(\"RMSE untuk model Gradient Boosting Regressor melebihi batasan.\")"
   ]
  },
  {
   "cell_type": "markdown",
   "metadata": {},
   "source": [
    "Hasil yang Anda berikan adalah nilai RMSE untuk model Random Forest Regressor dan model Gradient Boosting Regressor setelah dievaluasi menggunakan data uji. Di sini, kita menggunakan metrik RMSE untuk mengevaluasi seberapa baik model memprediksi jumlah pesanan taksi, di mana nilai RMSE yang lebih rendah menunjukkan kinerja model yang lebih baik.\n",
    "\n",
    "Penjelasan dari hasil tersebut adalah sebagai berikut:\n",
    "\n",
    "1. RMSE untuk model Random Forest Regressor: 30.05827280135878\n",
    "- Nilai RMSE untuk model Random Forest Regressor adalah sekitar 30.06.\n",
    "- Ini menunjukkan bahwa rata-rata kesalahan prediksi model Random Forest terhadap data uji adalah sekitar 30.06 pesanan taksi.\n",
    "- Karena nilai RMSE lebih rendah dari batas maksimum yang ditetapkan sebesar 48, maka model ini memenuhi syarat.\n",
    "\n",
    "2. RMSE untuk model Gradient Boosting Regressor: 36.54504920531381\n",
    "- Nilai RMSE untuk model Gradient Boosting Regressor adalah sekitar 36.55.\n",
    "- Ini menunjukkan bahwa rata-rata kesalahan prediksi model Gradient Boosting terhadap data uji adalah sekitar 36.55 pesanan taksi.\n",
    "- Meskipun nilai RMSE sedikit lebih tinggi dibandingkan dengan model Random Forest, namun masih di bawah batas maksimum yang ditetapkan, sehingga model ini juga memenuhi syarat.\n",
    "\n",
    "Kedua model memiliki kinerja yang baik dalam memprediksi jumlah pesanan taksi, dengan Random Forest Regressor memiliki RMSE yang sedikit lebih rendah dibandingkan dengan Gradient Boosting Regressor. Ini menunjukkan bahwa model Random Forest mungkin lebih cocok untuk masalah ini berdasarkan evaluasi RMSE."
   ]
  },
  {
   "cell_type": "markdown",
   "metadata": {},
   "source": [
    "## Kesimpulan:\n",
    "\n",
    "Dalam proyek ini, saya telah melakukan analisis dan prediksi jumlah pesanan taksi di bandara menggunakan data historis. Berikut adalah rangkuman dari proses dan temuannya:\n",
    "\n",
    "1. Pemahaman Data: Saya memulai dengan membaca dataset dan melakukan eksplorasi data untuk memahami struktur, tipe data, dan statistik deskriptif dari jumlah pesanan taksi.\n",
    "2. Persiapan Data: Saya meresampling data menjadi interval satu jam dan mempersiapkan data untuk pelatihan model. Tidak ada penanganan missing value atau encoding kategori yang diperlukan dalam dataset.\n",
    "3. Pembagian Data: Saya membagi dataset menjadi data latih dan data uji, di mana data uji mewakili 10% dari dataset awal.\n",
    "4. Pembuatan Model: Saya melatih dua model regresi yang berbeda, yaitu Random Forest Regressor dan Gradient Boosting Regressor, untuk memprediksi jumlah pesanan taksi.\n",
    "5. Evaluasi Model: Saya mengevaluasi kinerja kedua model menggunakan data uji dan metrik RMSE. Kedua model memenuhi syarat dengan nilai RMSE yang lebih rendah dari 48.\n",
    "\n",
    "Temuan dan Saran untuk Pengembangan Selanjutnya:\n",
    "1. Performa Model: Model Random Forest Regressor memiliki RMSE yang sedikit lebih rendah dibandingkan dengan model Gradient Boosting Regressor, menunjukkan kinerja yang lebih baik dalam memprediksi jumlah pesanan taksi. Oleh karena itu, untuk pengembangan selanjutnya, fokus dapat diberikan pada model Random Forest atau eksplorasi model regresi lainnya yang lebih kompleks.\n",
    "2. Feature Engineering: Ada potensi untuk melakukan feature engineering lebih lanjut, seperti menambahkan fitur turunan dari waktu (misalnya, musim, hari libur, atau jam sibuk).\n",
    "3. Hyperparameter Tuning: Pengembangan model dapat dilakukan dengan melakukan penyetelan hyperparameter yang lebih cermat untuk meningkatkan performa model yang ada.\n",
    "4. Peningkatan Data: Peningkatan jumlah data atau penggunaan data yang lebih baru dapat membantu dalam meningkatkan kualitas prediksi model.\n",
    "\n",
    "Dengan demikian, proyek ini telah memberikan wawasan tentang proses prediksi jumlah pesanan taksi menggunakan data historis dan memberikan landasan untuk pengembangan model yang lebih baik di masa depan."
   ]
  },
  {
   "cell_type": "markdown",
   "metadata": {},
   "source": [
    "# Daftar Periksa Penilaian"
   ]
  },
  {
   "cell_type": "markdown",
   "metadata": {},
   "source": [
    "- [x]  Jupyter Notebook bisa dibuka.\n",
    "- [x]  Tidak ada kesalahan dalam kode\n",
    "- [x]  Sel-sel dengan kode telah disusun berdasarkan urutan eksekusi.\n",
    "- [x]  Data telah diunduh dan disiapkan\n",
    "- [x]  Data telah dianalisis\n",
    "- [x]  Model sudah dilatih dan hiperparameter sudah dipilih\n",
    "- [x]  Model sudah dievaluasi. Kesimpulan sudah ada.\n",
    "- [x] *RMSE* untuk *test set* tidak lebih dari 48"
   ]
  },
  {
   "cell_type": "code",
   "execution_count": null,
   "metadata": {},
   "outputs": [],
   "source": []
  }
 ],
 "metadata": {
  "kernelspec": {
   "display_name": "Python 3 (ipykernel)",
   "language": "python",
   "name": "python3"
  },
  "language_info": {
   "codemirror_mode": {
    "name": "ipython",
    "version": 3
   },
   "file_extension": ".py",
   "mimetype": "text/x-python",
   "name": "python",
   "nbconvert_exporter": "python",
   "pygments_lexer": "ipython3",
   "version": "3.9.19"
  },
  "toc": {
   "base_numbering": 1,
   "nav_menu": {},
   "number_sections": true,
   "sideBar": true,
   "skip_h1_title": true,
   "title_cell": "Table of Contents",
   "title_sidebar": "Contents",
   "toc_cell": false,
   "toc_position": {},
   "toc_section_display": true,
   "toc_window_display": false
  }
 },
 "nbformat": 4,
 "nbformat_minor": 2
}
